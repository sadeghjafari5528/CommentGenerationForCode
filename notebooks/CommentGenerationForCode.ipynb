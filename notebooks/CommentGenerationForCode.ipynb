{
  "cells": [
    {
      "cell_type": "code",
      "execution_count": 1,
      "metadata": {
        "id": "A04jMdzqh1JA"
      },
      "outputs": [],
      "source": [
        "import collections\n",
        "import numpy as np\n",
        "import json\n",
        "from keras.preprocessing.text import Tokenizer\n",
        "from keras.preprocessing.sequence import pad_sequences\n",
        "from keras.models import Model, Sequential\n",
        "from keras.layers import GRU, Input, Dense, TimeDistributed, Activation, RepeatVector, Bidirectional\n",
        "from keras.layers.embeddings import Embedding\n",
        "from tensorflow.keras.optimizers import Adam\n",
        "from keras.losses import sparse_categorical_crossentropy"
      ]
    },
    {
      "cell_type": "code",
      "source": [
        "with open(\"data.json\") as f:\n",
        "  data = json.load(f)\n",
        "\n",
        "methods = []\n",
        "comments = []\n",
        "for sample in data:\n",
        "  methods.append(sample[\"method_tokens\"])\n",
        "  comments.append(sample[\"comment_tokens\"])"
      ],
      "metadata": {
        "id": "qkHgfKrbhCYU"
      },
      "execution_count": 3,
      "outputs": []
    },
    {
      "cell_type": "code",
      "execution_count": 4,
      "metadata": {
        "colab": {
          "base_uri": "https://localhost:8080/"
        },
        "id": "06yEOXwclETF",
        "outputId": "2c226dff-6f34-492f-be4a-33a56726ff00"
      },
      "outputs": [
        {
          "output_type": "stream",
          "name": "stdout",
          "text": [
            "446954 Method words.\n",
            "12020 unique Method words.\n",
            "10 Most common words in the Method dataset:\n",
            "\"(\" \")\" \";\" \".\" \"{\" \"}\" \",\" \"=\" \"if\" \"return\"\n",
            "\n",
            "240016 Comment words.\n",
            "6908 unique Comment words.\n",
            "10 Most common words in the Comment dataset:\n",
            "\"*\" \"the\" \".\" \"@\" \">\" \"<\" \"of\" \",\" \"param\" \"to\"\n"
          ]
        }
      ],
      "source": [
        "method_tokens_counter = collections.Counter([token for method in methods for token in method])\n",
        "comment_words_counter = collections.Counter([word for comment in comments for word in comment])\n",
        "print('{} Method words.'.format(len([token for method in methods for token in method])))\n",
        "print('{} unique Method words.'.format(len(method_tokens_counter)))\n",
        "print('10 Most common words in the Method dataset:')\n",
        "print('\"' + '\" \"'.join(list(zip(*method_tokens_counter.most_common(10)))[0]) + '\"')\n",
        "print()\n",
        "print('{} Comment words.'.format(len([word for comment in comments for word in comment])))\n",
        "print('{} unique Comment words.'.format(len(comment_words_counter)))\n",
        "print('10 Most common words in the Comment dataset:')\n",
        "print('\"' + '\" \"'.join(list(zip(*comment_words_counter.most_common(10)))[0]) + '\"')"
      ]
    },
    {
      "cell_type": "code",
      "source": [
        "comment_words_index = {}\n",
        "counter = 1\n",
        "for word in comment_words_counter:\n",
        "  comment_words_index[word] = counter\n",
        "  counter += 1\n",
        "\n",
        "method_tokens_index = {}\n",
        "counter = 1\n",
        "for token in method_tokens_counter:\n",
        "  method_tokens_index[token] = counter\n",
        "  counter += 1"
      ],
      "metadata": {
        "id": "vRFUFnSYsn8n"
      },
      "execution_count": 5,
      "outputs": []
    },
    {
      "cell_type": "code",
      "source": [
        "def convert_tokens_to_index(data, index_dic):\n",
        "  result = []\n",
        "  for sample in data:\n",
        "    result.append(np.array([index_dic[key] for key in sample]))\n",
        "  return result\n",
        "\n",
        "def convert_index_to_tokens(data, token_list):\n",
        "  result = []\n",
        "  for sample in data:\n",
        "    result.append(\" \".join([token_list[index - 1] for index in sample]))\n",
        "  return result\n",
        "\n",
        "def pad(x, length=None):\n",
        "    if length is None:\n",
        "        length = max([len(sentence) for sentence in x])\n",
        "    return pad_sequences(x, maxlen = length, padding = 'post')"
      ],
      "metadata": {
        "id": "pTInM0gPtdEW"
      },
      "execution_count": 6,
      "outputs": []
    },
    {
      "cell_type": "code",
      "source": [
        "methods_index = convert_tokens_to_index(methods, method_tokens_index)\n",
        "comments_index = convert_tokens_to_index(comments, comment_words_index)"
      ],
      "metadata": {
        "id": "88lLs3Umu6a1"
      },
      "execution_count": 7,
      "outputs": []
    },
    {
      "cell_type": "code",
      "source": [
        "def model_final(input_shape, output_sequence_length, methods_vocab_size, comments_vocab_size):\n",
        "  model = Sequential()\n",
        "  model.add(Embedding(input_dim=methods_vocab_size,output_dim=128,input_length=input_shape[1]))\n",
        "  model.add(Bidirectional(GRU(256,return_sequences=False)))\n",
        "  model.add(RepeatVector(output_sequence_length))\n",
        "  model.add(Bidirectional(GRU(256,return_sequences=True)))\n",
        "  model.add(TimeDistributed(Dense(comments_vocab_size,activation='softmax')))\n",
        "  learning_rate = 0.005\n",
        "  \n",
        "  model.compile(loss = sparse_categorical_crossentropy, \n",
        "                optimizer = Adam(learning_rate), \n",
        "                metrics = ['accuracy'])\n",
        "  \n",
        "  return model"
      ],
      "metadata": {
        "id": "qKrVeF0uji-t"
      },
      "execution_count": 8,
      "outputs": []
    },
    {
      "cell_type": "code",
      "source": [
        "tmp_X = pad(methods_index)\n",
        "tmp_Y = pad(comments_index)\n",
        "model = model_final(tmp_X.shape,\n",
        "                    tmp_Y.shape[1],\n",
        "                    len(comment_words_counter)+1,\n",
        "                    len(comment_words_counter)+1)\n",
        "\n",
        "model.fit(tmp_X, tmp_Y, batch_size = 64, epochs = 3, validation_split = 0.2)"
      ],
      "metadata": {
        "colab": {
          "base_uri": "https://localhost:8080/"
        },
        "id": "oGsK7RvD2WWN",
        "outputId": "190bcaa0-8b04-4876-fcdd-fee11675f678"
      },
      "execution_count": null,
      "outputs": [
        {
          "output_type": "stream",
          "name": "stdout",
          "text": [
            "Epoch 1/3\n",
            "68/68 [==============================] - 117s 2s/step - loss: 0.6733 - accuracy: 0.9380 - val_loss: 0.3554 - val_accuracy: 0.9572\n",
            "Epoch 2/3\n",
            "39/68 [================>.............] - ETA: 43s - loss: 0.3756 - accuracy: 0.9526"
          ]
        }
      ]
    },
    {
      "cell_type": "code",
      "source": [
        "print(methods[5010])\n",
        "print(comments[5010])"
      ],
      "metadata": {
        "colab": {
          "base_uri": "https://localhost:8080/"
        },
        "id": "p4FQ0JQtLWTM",
        "outputId": "c949a1f1-3790-4f0c-969c-6a9fcee7c52c"
      },
      "execution_count": null,
      "outputs": [
        {
          "output_type": "stream",
          "name": "stdout",
          "text": [
            "['void', 'action', '(', ')', '{', 'ACLMessage', 'startMsg', '=', 'new', 'ACLMessage', '(', 'ACLMessage', '.', 'REQUEST', ')', ';', 'startMsg', '.', 'addReceiver', '(', 'WATER_SUPPLIER', ')', ';', 'startMsg', '.', 'setLanguage', '(', 'myAgent', '.', 'codec', '.', 'getName', '(', ')', ')', ';', 'startMsg', '.', 'setOntology', '(', 'myAgent', '.', 'ontology', '.', 'getName', '(', ')', ')', ';', 'StepAttr', 'step', '=', 'new', 'StepAttr', '(', ')', ';', 'step', '.', 'setId', '(', 'this', '.', 'step', ')', ';', 'Start', 'aa', '=', 'new', 'Start', '(', ')', ';', 'aa', '.', 'setSimulationStep', '(', 'step', ')', ';', 'Action', 'act', '=', 'new', 'Action', '(', 'WATER_SUPPLIER', ',', 'aa', ')', ';', 'try', '{', 'myAgent', '.', 'getContentManager', '(', ')', '.', 'fillContent', '(', 'startMsg', ',', 'act', ')', ';', 'myAgent', '.', 'send', '(', 'startMsg', ')', ';', '}', 'catch', '(', 'CodecException', 'ce', ')', '{', 'log', '.', 'error', '(', 'ce', '.', 'getStackTrace', '(', ')', ')', ';', '}', 'catch', '(', 'OntologyException', 'oe', ')', '{', 'log', '.', 'error', '(', 'oe', '.', 'getStackTrace', '(', ')', ')', ';', '}', '}']\n",
            "['ACTION']\n"
          ]
        }
      ]
    },
    {
      "cell_type": "code",
      "source": [
        "def final_predictions(x_shape): \n",
        "  y_id_to_word = {value: key for key, value in comment_words_index.items()}\n",
        "  y_id_to_word[0] = '<PAD>'\n",
        "  sentence = methods_index[5010]\n",
        "  sentence = pad_sequences([sentence], maxlen=x_shape, padding='post')\n",
        "  predictions = model.predict(sentence, 1)\n",
        "  print('Sample 1:')\n",
        "  for p in predictions:\n",
        "    print(' '.join([y_id_to_word[np.argmax(i)] for i in p]))\n",
        "\n",
        "final_predictions(tmp_X.shape[-1])"
      ],
      "metadata": {
        "colab": {
          "base_uri": "https://localhost:8080/"
        },
        "id": "9DJrXIRXr1dl",
        "outputId": "36348f13-e411-4451-b39b-135efd3cad25"
      },
      "execution_count": null,
      "outputs": [
        {
          "output_type": "stream",
          "name": "stdout",
          "text": [
            "[[110 164   3 ...   0   0   0]]\n",
            "Sample 1:\n",
            "[[1.4061211e-01 4.2224061e-01 2.5543896e-08 ... 3.3388996e-08\n",
            "  2.4994996e-08 2.7802361e-08]\n",
            " [1.6362546e-01 3.1055278e-01 3.0571893e-08 ... 3.8820477e-08\n",
            "  2.8653595e-08 3.1366504e-08]\n",
            " [1.8711048e-01 2.1888120e-01 3.3399417e-08 ... 4.1445354e-08\n",
            "  2.9537853e-08 3.3120475e-08]\n",
            " ...\n",
            " [9.9943715e-01 4.6576155e-05 3.0804968e-12 ... 3.8203525e-12\n",
            "  2.8675185e-12 2.7262708e-12]\n",
            " [9.9945098e-01 4.5400022e-05 3.0368433e-12 ... 3.7529489e-12\n",
            "  2.8318697e-12 2.6526140e-12]\n",
            " [9.9949527e-01 4.0634517e-05 3.0943735e-12 ... 3.7933385e-12\n",
            "  2.8668101e-12 2.5927596e-12]]\n",
            "* * * <PAD> <PAD> <PAD> <PAD> <PAD> <PAD> <PAD> <PAD> <PAD> <PAD> <PAD> <PAD> <PAD> <PAD> <PAD> <PAD> <PAD> <PAD> <PAD> <PAD> <PAD> <PAD> <PAD> <PAD> <PAD> <PAD> <PAD> <PAD> <PAD> <PAD> <PAD> <PAD> <PAD> <PAD> <PAD> <PAD> <PAD> <PAD> <PAD> <PAD> <PAD> <PAD> <PAD> <PAD> <PAD> <PAD> <PAD> <PAD> <PAD> <PAD> <PAD> <PAD> <PAD> <PAD> <PAD> <PAD> <PAD> <PAD> <PAD> <PAD> <PAD> <PAD> <PAD> <PAD> <PAD> <PAD> <PAD> <PAD> <PAD> <PAD> <PAD> <PAD> <PAD> <PAD> <PAD> <PAD> <PAD> <PAD> <PAD> <PAD> <PAD> <PAD> <PAD> <PAD> <PAD> <PAD> <PAD> <PAD> <PAD> <PAD> <PAD> <PAD> <PAD> <PAD> <PAD> <PAD> <PAD> <PAD> <PAD> <PAD> <PAD> <PAD> <PAD> <PAD> <PAD> <PAD> <PAD> <PAD> <PAD> <PAD> <PAD> <PAD> <PAD> <PAD> <PAD> <PAD> <PAD> <PAD> <PAD> <PAD> <PAD> <PAD> <PAD> <PAD> <PAD> <PAD> <PAD> <PAD> <PAD> <PAD> <PAD> <PAD> <PAD> <PAD> <PAD> <PAD> <PAD> <PAD> <PAD> <PAD> <PAD> <PAD> <PAD> <PAD> <PAD> <PAD> <PAD> <PAD> <PAD> <PAD> <PAD> <PAD> <PAD> <PAD> <PAD> <PAD> <PAD> <PAD> <PAD> <PAD> <PAD> <PAD> <PAD> <PAD> <PAD> <PAD> <PAD> <PAD> <PAD> <PAD> <PAD> <PAD> <PAD> <PAD> <PAD> <PAD> <PAD> <PAD> <PAD> <PAD> <PAD> <PAD> <PAD> <PAD> <PAD> <PAD> <PAD> <PAD> <PAD> <PAD> <PAD> <PAD> <PAD> <PAD> <PAD> <PAD> <PAD> <PAD> <PAD> <PAD> <PAD> <PAD> <PAD> <PAD> <PAD> <PAD> <PAD> <PAD> <PAD> <PAD> <PAD> <PAD> <PAD> <PAD> <PAD> <PAD> <PAD> <PAD> <PAD> <PAD> <PAD> <PAD> <PAD> <PAD> <PAD> <PAD> <PAD> <PAD> <PAD> <PAD> <PAD> <PAD> <PAD> <PAD> <PAD> <PAD> <PAD> <PAD> <PAD> <PAD> <PAD> <PAD> <PAD> <PAD> <PAD> <PAD> <PAD> <PAD> <PAD> <PAD> <PAD> <PAD> <PAD> <PAD> <PAD> <PAD> <PAD> <PAD> <PAD> <PAD> <PAD> <PAD> <PAD> <PAD> <PAD> <PAD> <PAD> <PAD> <PAD> <PAD> <PAD> <PAD> <PAD> <PAD> <PAD> <PAD> <PAD> <PAD> <PAD> <PAD> <PAD> <PAD> <PAD> <PAD> <PAD> <PAD> <PAD> <PAD> <PAD> <PAD> <PAD> <PAD> <PAD> <PAD> <PAD> <PAD> <PAD> <PAD> <PAD> <PAD> <PAD> <PAD> <PAD> <PAD> <PAD> <PAD> <PAD> <PAD> <PAD> <PAD> <PAD> <PAD> <PAD> <PAD> <PAD> <PAD> <PAD> <PAD> <PAD> <PAD> <PAD> <PAD> <PAD> <PAD> <PAD> <PAD> <PAD> <PAD> <PAD> <PAD> <PAD> <PAD> <PAD> <PAD> <PAD> <PAD> <PAD> <PAD> <PAD> <PAD> <PAD> <PAD> <PAD> <PAD> <PAD> <PAD> <PAD> <PAD> <PAD> <PAD> <PAD> <PAD> <PAD> <PAD> <PAD> <PAD> <PAD> <PAD> <PAD> <PAD> <PAD> <PAD> <PAD> <PAD> <PAD> <PAD> <PAD> <PAD> <PAD> <PAD> <PAD> <PAD> <PAD> <PAD> <PAD> <PAD> <PAD> <PAD> <PAD> <PAD> <PAD> <PAD> <PAD> <PAD> <PAD> <PAD> <PAD> <PAD> <PAD> <PAD> <PAD> <PAD> <PAD> <PAD> <PAD> <PAD> <PAD> <PAD> <PAD> <PAD> <PAD> <PAD> <PAD> <PAD> <PAD> <PAD> <PAD> <PAD> <PAD> <PAD> <PAD> <PAD> <PAD> <PAD> <PAD> <PAD> <PAD> <PAD> <PAD> <PAD> <PAD> <PAD> <PAD> <PAD> <PAD> <PAD> <PAD> <PAD> <PAD> <PAD> <PAD> <PAD> <PAD> <PAD> <PAD> <PAD> <PAD> <PAD> <PAD> <PAD> <PAD> <PAD> <PAD> <PAD> <PAD> <PAD> <PAD> <PAD> <PAD> <PAD> <PAD> <PAD> <PAD> <PAD> <PAD> <PAD> <PAD> <PAD> <PAD> <PAD> <PAD> <PAD> <PAD> <PAD> <PAD> <PAD> <PAD> <PAD> <PAD> <PAD> <PAD> <PAD> <PAD> <PAD> <PAD> <PAD> <PAD> <PAD> <PAD> <PAD> <PAD> <PAD> <PAD> <PAD> <PAD> <PAD> <PAD> <PAD> <PAD> <PAD> <PAD> <PAD> <PAD> <PAD> <PAD> <PAD> <PAD> <PAD> <PAD> <PAD> <PAD> <PAD> <PAD> <PAD> <PAD> <PAD> <PAD> <PAD> <PAD> <PAD> <PAD> <PAD> <PAD> <PAD> <PAD> <PAD> <PAD> <PAD> <PAD> <PAD> <PAD> <PAD> <PAD> <PAD> <PAD> <PAD> <PAD> <PAD> <PAD> <PAD> <PAD> <PAD> <PAD> <PAD> <PAD> <PAD> <PAD> <PAD> <PAD> <PAD> <PAD> <PAD> <PAD> <PAD> <PAD> <PAD> <PAD> <PAD> <PAD> <PAD> <PAD> <PAD> <PAD> <PAD> <PAD> <PAD> <PAD> <PAD> <PAD> <PAD> <PAD> <PAD> <PAD> <PAD> <PAD> <PAD> <PAD> <PAD> <PAD> <PAD> <PAD> <PAD> <PAD> <PAD> <PAD> <PAD> <PAD> <PAD> <PAD> <PAD> <PAD> <PAD> <PAD> <PAD> <PAD> <PAD> <PAD> <PAD> <PAD> <PAD> <PAD> <PAD> <PAD> <PAD> <PAD> <PAD> <PAD> <PAD> <PAD> <PAD> <PAD> <PAD> <PAD> <PAD> <PAD> <PAD> <PAD> <PAD> <PAD> <PAD> <PAD> <PAD> <PAD> <PAD> <PAD> <PAD> <PAD> <PAD> <PAD> <PAD> <PAD> <PAD> <PAD> <PAD> <PAD> <PAD> <PAD> <PAD> <PAD> <PAD> <PAD> <PAD> <PAD> <PAD> <PAD> <PAD> <PAD> <PAD> <PAD> <PAD> <PAD> <PAD> <PAD> <PAD> <PAD> <PAD> <PAD> <PAD> <PAD> <PAD> <PAD> <PAD> <PAD> <PAD> <PAD> <PAD> <PAD> <PAD> <PAD> <PAD> <PAD> <PAD> <PAD> <PAD> <PAD> <PAD> <PAD> <PAD> <PAD> <PAD> <PAD> <PAD> <PAD> <PAD> <PAD> <PAD> <PAD> <PAD> <PAD> <PAD> <PAD> <PAD> <PAD> <PAD> <PAD> <PAD> <PAD> <PAD> <PAD> <PAD> <PAD> <PAD> <PAD> <PAD> <PAD> <PAD> <PAD> <PAD> <PAD> <PAD> <PAD> <PAD> <PAD> <PAD> <PAD> <PAD> <PAD> <PAD> <PAD> <PAD> <PAD> <PAD> <PAD> <PAD> <PAD> <PAD> <PAD> <PAD> <PAD> <PAD> <PAD> <PAD> <PAD> <PAD> <PAD> <PAD> <PAD> <PAD> <PAD> <PAD> <PAD> <PAD> <PAD> <PAD> <PAD> <PAD> <PAD> <PAD> <PAD> <PAD> <PAD> <PAD> <PAD> <PAD> <PAD> <PAD> <PAD> <PAD> <PAD> <PAD> <PAD> <PAD> <PAD> <PAD> <PAD> <PAD> <PAD> <PAD> <PAD> <PAD> <PAD> <PAD> <PAD> <PAD> <PAD> <PAD> <PAD> <PAD> <PAD> <PAD> <PAD> <PAD> <PAD> <PAD> <PAD> <PAD> <PAD> <PAD> <PAD> <PAD> <PAD> <PAD> <PAD> <PAD> <PAD> <PAD> <PAD> <PAD> <PAD> <PAD> <PAD> <PAD> <PAD> <PAD> <PAD> <PAD> <PAD> <PAD> <PAD> <PAD> <PAD> <PAD> <PAD> <PAD> <PAD> <PAD> <PAD> <PAD> <PAD> <PAD> <PAD> <PAD> <PAD> <PAD> <PAD> <PAD> <PAD> <PAD> <PAD> <PAD> <PAD> <PAD> <PAD> <PAD> <PAD> <PAD> <PAD> <PAD> <PAD> <PAD> <PAD> <PAD> <PAD> <PAD> <PAD> <PAD> <PAD> <PAD> <PAD> <PAD> <PAD> <PAD> <PAD> <PAD> <PAD> <PAD> <PAD> <PAD> <PAD> <PAD> <PAD> <PAD> <PAD> <PAD> <PAD> <PAD> <PAD> <PAD> <PAD> <PAD> <PAD> <PAD> <PAD> <PAD> <PAD> <PAD> <PAD> <PAD> <PAD> <PAD> <PAD> <PAD> <PAD> <PAD> <PAD> <PAD> <PAD> <PAD> <PAD> <PAD> <PAD> <PAD> <PAD> <PAD> <PAD> <PAD> <PAD> <PAD> <PAD> <PAD> <PAD> <PAD> <PAD> <PAD> <PAD> <PAD> <PAD> <PAD> <PAD> <PAD> <PAD> <PAD> <PAD> <PAD> <PAD> <PAD> <PAD> <PAD> <PAD> <PAD> <PAD> <PAD> <PAD> <PAD> <PAD> <PAD> <PAD> <PAD> <PAD> <PAD> <PAD> <PAD> <PAD> <PAD> <PAD> <PAD> <PAD> <PAD> <PAD> <PAD> <PAD> <PAD> <PAD>\n"
          ]
        }
      ]
    }
  ],
  "metadata": {
    "colab": {
      "name": "CommentGenerationForCode.ipynb",
      "provenance": []
    },
    "gpuClass": "standard",
    "kernelspec": {
      "display_name": "Python 3",
      "name": "python3"
    },
    "language_info": {
      "name": "python"
    },
    "accelerator": "GPU"
  },
  "nbformat": 4,
  "nbformat_minor": 0
}